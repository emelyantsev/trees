{
 "cells": [
  {
   "cell_type": "code",
   "execution_count": 77,
   "id": "b823bbb3",
   "metadata": {},
   "outputs": [],
   "source": [
    "import os\n",
    "import time\n",
    "import numpy as np\n",
    "\n",
    "from matplotlib import pyplot as plt\n",
    "\n",
    "%matplotlib inline"
   ]
  },
  {
   "cell_type": "code",
   "execution_count": null,
   "id": "2be4c694",
   "metadata": {},
   "outputs": [],
   "source": []
  },
  {
   "cell_type": "code",
   "execution_count": 122,
   "id": "4db4e946",
   "metadata": {},
   "outputs": [],
   "source": [
    "sizes = [ 1000, 10000, 50000]"
   ]
  },
  {
   "cell_type": "code",
   "execution_count": 123,
   "id": "e6aa301b",
   "metadata": {},
   "outputs": [],
   "source": [
    "seeds = [845, 12, 777]"
   ]
  },
  {
   "cell_type": "code",
   "execution_count": 124,
   "id": "d4848177",
   "metadata": {},
   "outputs": [],
   "source": [
    "command_path = \"..\\\\BuildDebug\\\\test_driver4.exe\""
   ]
  },
  {
   "cell_type": "code",
   "execution_count": null,
   "id": "c8ad1a6f",
   "metadata": {},
   "outputs": [],
   "source": []
  },
  {
   "cell_type": "code",
   "execution_count": 125,
   "id": "0a904438",
   "metadata": {},
   "outputs": [],
   "source": [
    "def run_tests( sizes : list, seeds : list, use_containter : str, mode : str) -> list: \n",
    "    \n",
    "    times = []\n",
    "\n",
    "    for i in sizes:\n",
    "\n",
    "        current = []\n",
    "\n",
    "        for seed in seeds:\n",
    "\n",
    "            command = \" \".join([command_path, str(i), str(seed), use_containter, mode])\n",
    "\n",
    "            #print(command)\n",
    "\n",
    "            start_time = time.time_ns()\n",
    "\n",
    "            ret = os.system(command)\n",
    "\n",
    "            assert ret == 0\n",
    "\n",
    "            finish_time =  time.time_ns()\n",
    "\n",
    "            time_diff_ms = (finish_time - start_time) / 1000000\n",
    "\n",
    "            print( i, seed, time_diff_ms )\n",
    "\n",
    "            current.append(time_diff_ms)\n",
    "\n",
    "        times.append( np.array(current).mean() )\n",
    "        \n",
    "        \n",
    "    return times"
   ]
  },
  {
   "cell_type": "code",
   "execution_count": null,
   "id": "c9331ae7",
   "metadata": {},
   "outputs": [],
   "source": []
  },
  {
   "cell_type": "code",
   "execution_count": 126,
   "id": "d1b52f69",
   "metadata": {},
   "outputs": [],
   "source": [
    "containers = [ 'bst', 'set', 'avl']\n",
    "modes = ['random', 'seq']"
   ]
  },
  {
   "cell_type": "code",
   "execution_count": null,
   "id": "7f799a09",
   "metadata": {},
   "outputs": [],
   "source": []
  },
  {
   "cell_type": "code",
   "execution_count": 127,
   "id": "d4843eda",
   "metadata": {},
   "outputs": [
    {
     "name": "stdout",
     "output_type": "stream",
     "text": [
      "1000 845 28.0472\n",
      "1000 12 26.237\n",
      "1000 777 26.7521\n",
      "10000 845 531.991\n",
      "10000 12 536.0517\n",
      "10000 777 538.9737\n",
      "50000 845 13847.7678\n",
      "50000 12 14054.9441\n",
      "50000 777 14089.038\n"
     ]
    }
   ],
   "source": [
    "times_bst_seq = run_tests(sizes, seeds, 'bst', 'seq')"
   ]
  },
  {
   "cell_type": "code",
   "execution_count": null,
   "id": "2c80fa87",
   "metadata": {},
   "outputs": [],
   "source": []
  },
  {
   "cell_type": "code",
   "execution_count": 128,
   "id": "66c2f0d5",
   "metadata": {},
   "outputs": [
    {
     "name": "stdout",
     "output_type": "stream",
     "text": [
      "1000 845 26.2808\n",
      "1000 12 22.2226\n",
      "1000 777 21.0331\n",
      "10000 845 26.9979\n",
      "10000 12 27.0026\n",
      "10000 777 25.9979\n",
      "50000 845 52.9973\n",
      "50000 12 53.4257\n",
      "50000 777 52.8948\n"
     ]
    }
   ],
   "source": [
    "times_avl_seq = run_tests(sizes, seeds, 'avl', 'seq')"
   ]
  },
  {
   "cell_type": "code",
   "execution_count": null,
   "id": "7ef3660c",
   "metadata": {},
   "outputs": [],
   "source": []
  },
  {
   "cell_type": "code",
   "execution_count": 129,
   "id": "4a053295",
   "metadata": {},
   "outputs": [
    {
     "name": "stdout",
     "output_type": "stream",
     "text": [
      "1000 845 24.2421\n",
      "1000 12 23.2358\n",
      "1000 777 22.0033\n",
      "10000 845 26.999\n",
      "10000 12 25.9989\n",
      "10000 777 25.9987\n",
      "50000 845 52.9986\n",
      "50000 12 54.9982\n",
      "50000 777 55.1993\n"
     ]
    }
   ],
   "source": [
    "times_set_seq = run_tests(sizes, seeds, 'set', 'seq')"
   ]
  },
  {
   "cell_type": "code",
   "execution_count": null,
   "id": "19e195b1",
   "metadata": {},
   "outputs": [],
   "source": []
  },
  {
   "cell_type": "code",
   "execution_count": 139,
   "id": "735fc05d",
   "metadata": {},
   "outputs": [
    {
     "data": {
      "image/png": "[encoded data removed]",
      "text/plain": [
       "<Figure size 432x288 with 1 Axes>"
      ]
     },
     "metadata": {
      "needs_background": "light"
     },
     "output_type": "display_data"
    }
   ],
   "source": [
    "ax = plt.axes()\n",
    "ax.set_facecolor(\"pink\")\n",
    "plt.plot(sizes, times_bst_seq, 'r', label='bst')\n",
    "plt.plot(sizes, times_set_seq, 'b', label='std::set',linewidth=1)\n",
    "plt.plot(sizes, times_avl_seq,'g--', label='avl')\n",
    "plt.legend();"
   ]
  },
  {
   "cell_type": "code",
   "execution_count": null,
   "id": "d2ce17f9",
   "metadata": {},
   "outputs": [],
   "source": []
  },
  {
   "cell_type": "code",
   "execution_count": 104,
   "id": "458ba6d3",
   "metadata": {},
   "outputs": [],
   "source": [
    "sizes = [ 1000, 10000, 100000, 1000000]"
   ]
  },
  {
   "cell_type": "code",
   "execution_count": 105,
   "id": "61bb5d13",
   "metadata": {},
   "outputs": [
    {
     "name": "stdout",
     "output_type": "stream",
     "text": [
      "1000 845 23.5222\n",
      "1000 12 23.1586\n",
      "1000 777 20.6377\n",
      "10000 845 27.999\n",
      "10000 12 26.9997\n",
      "10000 777 25.9989\n",
      "100000 845 86.9975\n",
      "100000 12 89.1598\n",
      "100000 777 87.9868\n",
      "1000000 845 767.5268\n",
      "1000000 12 772.9783\n",
      "1000000 777 756.1892\n"
     ]
    }
   ],
   "source": [
    "times_avl_seq = run_tests(sizes, seeds, 'avl', 'seq')"
   ]
  },
  {
   "cell_type": "code",
   "execution_count": 106,
   "id": "ccecde91",
   "metadata": {},
   "outputs": [
    {
     "name": "stdout",
     "output_type": "stream",
     "text": [
      "1000 845 24.0435\n",
      "1000 12 21.3461\n",
      "1000 777 21.9997\n",
      "10000 845 27.9994\n",
      "10000 12 26.999\n",
      "10000 777 26.9991\n",
      "100000 845 89.9978\n",
      "100000 12 90.9977\n",
      "100000 777 89.9972\n",
      "1000000 845 771.9783\n",
      "1000000 12 789.9708\n",
      "1000000 777 772.0077\n"
     ]
    }
   ],
   "source": [
    "times_set_seq = run_tests(sizes, seeds, 'set', 'seq')"
   ]
  },
  {
   "cell_type": "code",
   "execution_count": null,
   "id": "ea55bf80",
   "metadata": {},
   "outputs": [],
   "source": []
  },
  {
   "cell_type": "code",
   "execution_count": 115,
   "id": "02147a9e",
   "metadata": {},
   "outputs": [
    {
     "data": {
      "image/png": "[encoded data removed]",
      "text/plain": [
       "<Figure size 432x288 with 1 Axes>"
      ]
     },
     "metadata": {
      "needs_background": "light"
     },
     "output_type": "display_data"
    }
   ],
   "source": [
    "ax = plt.axes()\n",
    "ax.set_facecolor(\"lightgreen\")\n",
    "plt.plot(sizes, times_set_seq, 'b', label='std::set',linewidth=1)\n",
    "plt.plot(sizes, times_avl_seq,'g--', label='avl')\n",
    "plt.xlabel(\"Size\")\n",
    "plt.ylabel(\"Time, ms\")\n",
    "plt.legend();"
   ]
  },
  {
   "cell_type": "code",
   "execution_count": null,
   "id": "792518b0",
   "metadata": {},
   "outputs": [],
   "source": []
  },
  {
   "cell_type": "code",
   "execution_count": 116,
   "id": "ad8de113",
   "metadata": {},
   "outputs": [
    {
     "name": "stdout",
     "output_type": "stream",
     "text": [
      "1000 845 22.0005\n",
      "1000 12 22.1135\n",
      "1000 777 21.3647\n",
      "10000 845 25.8525\n",
      "10000 12 24.9989\n",
      "10000 777 28.0254\n",
      "100000 845 53.9991\n",
      "100000 12 53.9995\n",
      "100000 777 54.9984\n",
      "1000000 845 202.9944\n",
      "1000000 12 203.0043\n",
      "1000000 777 202.9556\n"
     ]
    }
   ],
   "source": [
    "times_avl_random = run_tests(sizes, seeds, 'avl', 'random')"
   ]
  },
  {
   "cell_type": "code",
   "execution_count": null,
   "id": "3f5e11ab",
   "metadata": {},
   "outputs": [],
   "source": []
  },
  {
   "cell_type": "code",
   "execution_count": 117,
   "id": "b1206041",
   "metadata": {},
   "outputs": [
    {
     "name": "stdout",
     "output_type": "stream",
     "text": [
      "1000 845 24.4356\n",
      "1000 12 21.5968\n",
      "1000 777 20.9984\n",
      "10000 845 25.9997\n",
      "10000 12 24.9992\n",
      "10000 777 24.9993\n",
      "100000 845 59.9985\n",
      "100000 12 62.5262\n",
      "100000 777 61.9966\n",
      "1000000 845 303.2115\n",
      "1000000 12 301.9921\n",
      "1000000 777 302.9918\n"
     ]
    }
   ],
   "source": [
    "times_set_random = run_tests(sizes, seeds, 'set', 'random')"
   ]
  },
  {
   "cell_type": "code",
   "execution_count": null,
   "id": "9895dc8c",
   "metadata": {},
   "outputs": [],
   "source": []
  },
  {
   "cell_type": "code",
   "execution_count": 119,
   "id": "c5a642cc",
   "metadata": {},
   "outputs": [
    {
     "data": {
      "image/png": "[encoded data removed]",
      "text/plain": [
       "<Figure size 432x288 with 1 Axes>"
      ]
     },
     "metadata": {
      "needs_background": "light"
     },
     "output_type": "display_data"
    }
   ],
   "source": [
    "ax = plt.axes()\n",
    "ax.set_facecolor(\"lightgreen\")\n",
    "plt.plot(sizes, times_set_random, 'b', label='std::set', linewidth=2)\n",
    "plt.plot(sizes, times_avl_random,'g--', label='avl')\n",
    "plt.xlabel(\"Size\")\n",
    "plt.ylabel(\"Time, ms\")\n",
    "plt.legend();"
   ]
  },
  {
   "cell_type": "code",
   "execution_count": null,
   "id": "f0d2ae53",
   "metadata": {},
   "outputs": [],
   "source": []
  }
 ],
 "metadata": {
  "kernelspec": {
   "display_name": "Python 3",
   "language": "python",
   "name": "python3"
  },
  "language_info": {
   "codemirror_mode": {
    "name": "ipython",
    "version": 3
   },
   "file_extension": ".py",
   "mimetype": "text/x-python",
   "name": "python",
   "nbconvert_exporter": "python",
   "pygments_lexer": "ipython3",
   "version": "3.7.9"
  }
 },
 "nbformat": 4,
 "nbformat_minor": 5
}
